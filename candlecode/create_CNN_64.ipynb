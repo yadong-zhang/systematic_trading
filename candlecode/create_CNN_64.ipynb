{
 "cells": [
  {
   "cell_type": "code",
   "execution_count": null,
   "metadata": {
    "collapsed": true
   },
   "outputs": [],
   "source": [
    "# this code will hold packages and links that will require 64MB python.\n",
    "# stage 2, input the GAF data to the CNN data.\n",
    "# https://towardsdatascience.com/understanding-and-implementing-lenet-5-cnn-architecture-deep-learning-a2d531ebc342\n",
    "# Le Net tensor flow implementation --> https://colab.research.google.com/drive/1kV3Jpxzup63GfJB1FGKxTSKd6Ek8J3sA\n",
    "# Le Net Keras implementation --> https://colab.research.google.com/drive/1CVm50PGE4vhtB5I_a_yc4h5F-itKOVL9\n",
    "from keras.models import Sequential\n",
    "from keras.layers import LSTM\n",
    "from keras.layers import Dense\n",
    "import pandas as pd\n",
    "import numpy as np\n",
    "import numpy as np\n",
    "from keras.utils import np_utils\n",
    "from cnn import SimpleCNN\n",
    "from series2gaf import GenerateGAF\n",
    "from sklearn.model_selection import train_test_split\n",
    "from sklearn.metrics import accuracy_score\n",
    "from sklearn.metrics import confusion_matrix\n",
    "from sklearn.decomposition import PCA\n",
    "\n",
    "model = keras.Sequential()\n",
    "\n",
    "model.add(layers.Conv2D(filters=6, kernel_size=(3, 3), activation='relu', input_shape=(32,23,1)))\n",
    "model.add(layers.AveragePooling2D())\n",
    "\n",
    "model.add(layers.Conv2D(filters=16, kernel_size=(3, 3), activation='relu'))\n",
    "model.add(layers.AveragePooling2D())\n",
    "\n",
    "model.add(layers.Flatten())\n",
    "\n",
    "model.add(layers.Dense(units=120, activation='relu'))\n",
    "\n",
    "model.add(layers.Dense(units=84, activation='relu'))\n",
    "\n",
    "model.add(layers.Dense(units=10, activation = 'softmax'))"
   ]
  },
  {
   "cell_type": "code",
   "execution_count": 3,
   "metadata": {},
   "outputs": [],
   "source": [
    "import numpy as np\n",
    "windowSize , rollingLength = 50, 10\n",
    "fileName = 'demo_%02d_%02d' % (windowSize, rollingLength)\n",
    "ts_img = np.load('%s_gaf.pkl' % fileName, allow_pickle = True)"
   ]
  },
  {
   "cell_type": "code",
   "execution_count": 18,
   "metadata": {},
   "outputs": [
    {
     "name": "stdout",
     "output_type": "stream",
     "text": [
      "(18, 400, 400)\n"
     ]
    }
   ],
   "source": [
    "print(np.shape(ts_img))\n",
    "gaf = np.reshape(ts_img, (ts_img.shape[0], ts_img.shape[1], ts_img.shape[2], 1))"
   ]
  },
  {
   "cell_type": "code",
   "execution_count": 19,
   "metadata": {},
   "outputs": [
    {
     "data": {
      "text/plain": [
       "(18, 400, 400, 1)"
      ]
     },
     "execution_count": 19,
     "metadata": {},
     "output_type": "execute_result"
    }
   ],
   "source": [
    "np.shape(gaf)\n",
    "#XXX: switch to 64bit version\n",
    "# create the label this is have the length of ts_img.shape[0], i.e. number of images\n",
    "cut_point = int(gaf.shape[0]/3)\n",
    "label = np.zeros(gaf.shape[0])\n",
    "label[cut_point:cut_point*2] = 1\n",
    "label[cut_point*2:] = 2\n",
    "label = np_utils.to_categorical(label)"
   ]
  },
  {
   "cell_type": "code",
   "execution_count": null,
   "metadata": {},
   "outputs": [],
   "source": [
    "# train the model\n",
    "# output size is 3 because of {1,2,3}-classes\n",
    "cnn_model = SimpleCNN(input_shape=(gaf.shape[1], gaf.shape[2], 1),\n",
    "                        output_size=3)\n",
    "\n",
    "# train the cnn model\n",
    "train_history = cnn_model.fit(x=gaf, y=label,\n",
    "                                epochs=10, batch_size=10,\n",
    "                                validation_split=0.2, verbose=2)"
   ]
  }
 ],
 "metadata": {
  "kernelspec": {
   "display_name": "Python 2",
   "language": "python",
   "name": "python2"
  },
  "language_info": {
   "codemirror_mode": {
    "name": "ipython",
    "version": 2
   },
   "file_extension": ".py",
   "mimetype": "text/x-python",
   "name": "python",
   "nbconvert_exporter": "python",
   "pygments_lexer": "ipython2",
   "version": "2.7.6"
  }
 },
 "nbformat": 4,
 "nbformat_minor": 0
}
